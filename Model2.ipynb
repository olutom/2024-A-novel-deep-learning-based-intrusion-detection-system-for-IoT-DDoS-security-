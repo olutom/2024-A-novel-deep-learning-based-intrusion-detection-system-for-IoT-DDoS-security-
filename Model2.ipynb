{
 "cells": [
  {
   "cell_type": "code",
   "execution_count": 1,
   "id": "5ca13d91-add4-498c-9fc6-7157d9d1b1a0",
   "metadata": {},
   "outputs": [
    {
     "name": "stdout",
     "output_type": "stream",
     "text": [
      "Label Mapping: {'non-DDoS': 0}\n"
     ]
    },
    {
     "name": "stderr",
     "output_type": "stream",
     "text": [
      "2025-05-18 19:29:49.723262: I tensorflow/core/platform/cpu_feature_guard.cc:151] This TensorFlow binary is optimized with oneAPI Deep Neural Network Library (oneDNN) to use the following CPU instructions in performance-critical operations:  AVX2 FMA\n",
      "To enable them in other operations, rebuild TensorFlow with the appropriate compiler flags.\n"
     ]
    },
    {
     "name": "stdout",
     "output_type": "stream",
     "text": [
      "Epoch 1/200\n",
      " 843/5445 [===>..........................] - ETA: 4:08:35 - loss: 0.0053 - accuracy: 0.9990 "
     ]
    },
    {
     "name": "stderr",
     "output_type": "stream",
     "text": [
      "\n",
      "KeyboardInterrupt\n",
      "\n"
     ]
    }
   ],
   "source": [
    "# Implementation of Model 2 (Three-Class Classification: Benign, DDoS, non-DDoS)\n",
    
    "\n",
    "import pandas as pd\n",
    "import numpy as np\n",
    "from sklearn.preprocessing import LabelEncoder, StandardScaler\n",
    "from sklearn.model_selection import train_test_split\n",
    "from sklearn.metrics import classification_report, confusion_matrix, ConfusionMatrixDisplay\n",
    "import matplotlib.pyplot as plt\n",
    "import tensorflow as tf\n",
    "from tensorflow.keras.models import Sequential\n",
    "from tensorflow.keras.layers import Dense, Dropout, Conv1D, Flatten, BatchNormalization, LSTM, InputLayer\n",
    "from tensorflow.keras.optimizers import Adam\n",
    "\n",
    "# --- Step 1: Load Dataset ---\n",
    "df = pd.read_csv(\"/Users/user/Desktop/0model/0final_cleaned_dataset.csv\")\n",
    "\n",
    "# --- Step 2: Map to 3-class Labels: BENIGN, DDoS, non-DDoS ---\n",
    "df['Three_Class_Label'] = df['Label'].apply(lambda x: 'BENIGN' if x == 'BenignTraffic' else ('DDoS' if 'DDoS' in x else 'non-DDoS'))\n",
    "label_encoder = LabelEncoder()\n",
    "df['Label_Encoded'] = label_encoder.fit_transform(df['Three_Class_Label'])\n",
    "print(\"Label Mapping:\", dict(zip(label_encoder.classes_, label_encoder.transform(label_encoder.classes_))))\n",
    "\n",
    "# --- Step 3: Drop Unnecessary Columns and Handle Numeric Features ---\n",
    "drop_columns = ['Label', 'BroadLabel', 'Three_Class_Label']\n",
    "features = df.drop(columns=drop_columns + ['Label_Encoded'], errors='ignore')\n",
    "features = features.select_dtypes(include=['number']).copy()\n",
    "\n",
    "# --- Step 4: Log Normalization & Clean NaNs ---\n",
    "features.replace([np.inf, -np.inf], np.nan, inplace=True)\n",
    "features.dropna(inplace=True)\n",
    "df = df.loc[features.index]  # Align label with features\n",
    "labels = df['Label_Encoded']\n",
    "\n",
    "features = np.log1p(features)\n",
    "scaler = StandardScaler()\n",
    "X_scaled = scaler.fit_transform(features)\n",
    "\n",
    "# --- Step 5: Train-Test Split (60% Train, 20% Val, 20% Test) ---\n",
    "X_temp, X_test, y_temp, y_test = train_test_split(X_scaled, labels, test_size=0.2, stratify=labels, random_state=42)\n",
    "X_train, X_val, y_train, y_val = train_test_split(X_temp, y_temp, test_size=0.25, stratify=y_temp, random_state=42)\n",
    "\n",
    "X_train_seq = X_train.reshape((X_train.shape[0], X_train.shape[1], 1))\n",
    "X_val_seq = X_val.reshape((X_val.shape[0], X_val.shape[1], 1))\n",
    "X_test_seq = X_test.reshape((X_test.shape[0], X_test.shape[1], 1))\n",
    "\n",
    "# --- Step 6: Define Model 2 (LSTM-based for 3-class classification) ---\n",
    "def build_lstm_model(input_shape, output_dim):\n",
    "    model = Sequential([\n",
    "        InputLayer(input_shape=input_shape),\n",
    "        Conv1D(128, kernel_size=3, activation='relu'),\n",
    "        LSTM(256, return_sequences=True),\n",
    "        LSTM(512),\n",
    "        BatchNormalization(),\n",
    "        Flatten(),\n",
    "        Dense(512, activation='relu'),\n",
    "        Dropout(0.3),\n",
    "        Dense(512, activation='relu'),\n",
    "        Dense(output_dim, activation='softmax')\n",
    "    ])\n",
    "    return model\n",
    "\n",
    "# --- Step 7: Compile and Train ---\n",
    "model = build_lstm_model((X_train_seq.shape[1], 1), output_dim=3)\n",
    "model.compile(optimizer=Adam(learning_rate=2e-4), loss='sparse_categorical_crossentropy', metrics=['accuracy'])\n",
    "\n",
    "history = model.fit(X_train_seq, y_train, epochs=200, batch_size=256, validation_data=(X_val_seq, y_val), verbose=1)\n",
    "\n",
    "# --- Step 8: Evaluate ---\n",
    "y_pred_probs = model.predict(X_test_seq)\n",
    "y_pred = np.argmax(y_pred_probs, axis=1)\n",
    "\n",
    "print(\"\\nClassification Report:\")\n",
    "print(classification_report(y_test, y_pred, target_names=label_encoder.classes_))\n",
    "ConfusionMatrixDisplay(confusion_matrix(y_test, y_pred), display_labels=label_encoder.classes_).plot()\n",
    "plt.title(\"Confusion Matrix: Model 2 (LSTM - 3 Class)\")\n",
    "plt.show()\n",
    "\n",
    "# --- Step 9: Save Model ---\n",
    "model.save(\"model2_lstm_3class.h5\")\n"
   ]
  },
  {
   "cell_type": "code",
   "execution_count": null,
   "id": "755958b3-494b-452a-81e2-ebc1f72f2ef6",
   "metadata": {},
   "outputs": [],
   "source": []
  }
 ],
 "metadata": {
  "kernelspec": {
   "display_name": "Python [conda env:base] *",
   "language": "python",
   "name": "conda-base-py"
  },
  "language_info": {
   "codemirror_mode": {
    "name": "ipython",
    "version": 3
   },
   "file_extension": ".py",
   "mimetype": "text/x-python",
   "name": "python",
   "nbconvert_exporter": "python",
   "pygments_lexer": "ipython3",
   "version": "3.10.16"
  }
 },
 "nbformat": 4,
 "nbformat_minor": 5
}
